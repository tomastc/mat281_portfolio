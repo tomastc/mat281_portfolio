{
 "cells": [
  {
   "cell_type": "markdown",
   "metadata": {
    "slideshow": {
     "slide_type": "slide"
    }
   },
   "source": [
    "<img src=\"https://upload.wikimedia.org/wikipedia/commons/4/47/Logo_UTFSM.png\" width=\"200\" alt=\"utfsm-logo\" align=\"left\"/>\n",
    "\n",
    "# MAT281\n",
    "### Aplicaciones de la Matemática en la Ingeniería"
   ]
  },
  {
   "cell_type": "markdown",
   "metadata": {
    "slideshow": {
     "slide_type": "slide"
    }
   },
   "source": [
    "## Módulo 02\n",
    "## Clase 02: Manipulación de Datos"
   ]
  },
  {
   "cell_type": "markdown",
   "metadata": {
    "slideshow": {
     "slide_type": "slide"
    }
   },
   "source": [
    "## Objetivos\n",
    "\n",
    "* Comprender objetos de pandas\n",
    "* Poder realizar manipulación de datos"
   ]
  },
  {
   "cell_type": "markdown",
   "metadata": {
    "slideshow": {
     "slide_type": "subslide"
    }
   },
   "source": [
    "## Contenidos\n",
    "* [Introducción a Pandas](#pandas)\n",
    "* [Series](#series)\n",
    "* [DataFrames](#dataframes)"
   ]
  },
  {
   "cell_type": "markdown",
   "metadata": {
    "slideshow": {
     "slide_type": "slide"
    }
   },
   "source": [
    "<a id='pandas'></a>\n",
    "## Introducción a Pandas"
   ]
  },
  {
   "cell_type": "markdown",
   "metadata": {},
   "source": [
    "Desde el [repositorio](https://github.com/pandas-dev/pandas) oficial:\n",
    "\n",
    "pandas is a Python package providing fast, flexible, and expressive data structures designed to make working with \"relational\" or \"labeled\" data both easy and intuitive. It aims to be the fundamental high-level building block for doing practical, **real world** data analysis in Python. Additionally, it has the broader goal of becoming **the most powerful and flexible open source data analysis / manipulation tool available in any language**. It is already well on its way towards this goal."
   ]
  },
  {
   "cell_type": "markdown",
   "metadata": {},
   "source": [
    "### Principales Características\n",
    "\n",
    "* Easy handling of missing data (represented as NaN) in floating point as well as non-floating point data\n",
    "* Size mutability: columns can be inserted and deleted from DataFrame and higher dimensional objects\n",
    "* Automatic and explicit data alignment: objects can be explicitly aligned to a set of labels, or the user can simply ignore the labels and let Series, DataFrame, etc. automatically align the data for you in computations\n",
    "* Powerful, flexible group by functionality to perform split-apply-combine operations on data sets, for both aggregating and transforming data\n",
    "* Make it easy to convert ragged, differently-indexed data in other Python and NumPy data structures into DataFrame objects\n",
    "* Intelligent label-based slicing, fancy indexing, and subsetting of large data sets\n",
    "* Intuitive merging and joining data sets\n",
    "* Flexible reshaping and pivoting of data sets\n",
    "* Hierarchical labeling of axes (possible to have multiple labels per tick)\n",
    "* Robust IO tools for loading data from flat files (CSV and delimited), Excel files, databases, and saving/loading data from the ultrafast HDF5 format\n",
    "* Time series-specific functionality: date range generation and frequency conversion, moving window statistics, moving window linear regressions, date shifting and lagging, etc."
   ]
  },
  {
   "cell_type": "code",
   "execution_count": 1,
   "metadata": {},
   "outputs": [],
   "source": [
    "import pandas as pd"
   ]
  },
  {
   "cell_type": "code",
   "execution_count": 2,
   "metadata": {},
   "outputs": [
    {
     "data": {
      "text/plain": [
       "'0.25.1'"
      ]
     },
     "execution_count": 2,
     "metadata": {},
     "output_type": "execute_result"
    }
   ],
   "source": [
    "pd.__version__"
   ]
  },
  {
   "cell_type": "markdown",
   "metadata": {
    "slideshow": {
     "slide_type": "slide"
    }
   },
   "source": [
    "<a id='series'></a>\n",
    "## Series"
   ]
  },
  {
   "cell_type": "markdown",
   "metadata": {},
   "source": [
    "Arreglos unidimensionales con etiquetas. Se puede pensar como una generalización de los diccionarios de Python."
   ]
  },
  {
   "cell_type": "code",
   "execution_count": 3,
   "metadata": {},
   "outputs": [
    {
     "data": {
      "text/plain": [
       "\u001b[0;31mInit signature:\u001b[0m\n",
       "\u001b[0mpd\u001b[0m\u001b[0;34m.\u001b[0m\u001b[0mSeries\u001b[0m\u001b[0;34m(\u001b[0m\u001b[0;34m\u001b[0m\n",
       "\u001b[0;34m\u001b[0m    \u001b[0mdata\u001b[0m\u001b[0;34m=\u001b[0m\u001b[0;32mNone\u001b[0m\u001b[0;34m,\u001b[0m\u001b[0;34m\u001b[0m\n",
       "\u001b[0;34m\u001b[0m    \u001b[0mindex\u001b[0m\u001b[0;34m=\u001b[0m\u001b[0;32mNone\u001b[0m\u001b[0;34m,\u001b[0m\u001b[0;34m\u001b[0m\n",
       "\u001b[0;34m\u001b[0m    \u001b[0mdtype\u001b[0m\u001b[0;34m=\u001b[0m\u001b[0;32mNone\u001b[0m\u001b[0;34m,\u001b[0m\u001b[0;34m\u001b[0m\n",
       "\u001b[0;34m\u001b[0m    \u001b[0mname\u001b[0m\u001b[0;34m=\u001b[0m\u001b[0;32mNone\u001b[0m\u001b[0;34m,\u001b[0m\u001b[0;34m\u001b[0m\n",
       "\u001b[0;34m\u001b[0m    \u001b[0mcopy\u001b[0m\u001b[0;34m=\u001b[0m\u001b[0;32mFalse\u001b[0m\u001b[0;34m,\u001b[0m\u001b[0;34m\u001b[0m\n",
       "\u001b[0;34m\u001b[0m    \u001b[0mfastpath\u001b[0m\u001b[0;34m=\u001b[0m\u001b[0;32mFalse\u001b[0m\u001b[0;34m,\u001b[0m\u001b[0;34m\u001b[0m\n",
       "\u001b[0;34m\u001b[0m\u001b[0;34m)\u001b[0m\u001b[0;34m\u001b[0m\u001b[0;34m\u001b[0m\u001b[0m\n",
       "\u001b[0;31mDocstring:\u001b[0m     \n",
       "One-dimensional ndarray with axis labels (including time series).\n",
       "\n",
       "Labels need not be unique but must be a hashable type. The object\n",
       "supports both integer- and label-based indexing and provides a host of\n",
       "methods for performing operations involving the index. Statistical\n",
       "methods from ndarray have been overridden to automatically exclude\n",
       "missing data (currently represented as NaN).\n",
       "\n",
       "Operations between Series (+, -, /, *, **) align values based on their\n",
       "associated index values-- they need not be the same length. The result\n",
       "index will be the sorted union of the two indexes.\n",
       "\n",
       "Parameters\n",
       "----------\n",
       "data : array-like, Iterable, dict, or scalar value\n",
       "    Contains data stored in Series.\n",
       "\n",
       "    .. versionchanged :: 0.23.0\n",
       "       If data is a dict, argument order is maintained for Python 3.6\n",
       "       and later.\n",
       "\n",
       "index : array-like or Index (1d)\n",
       "    Values must be hashable and have the same length as `data`.\n",
       "    Non-unique index values are allowed. Will default to\n",
       "    RangeIndex (0, 1, 2, ..., n) if not provided. If both a dict and index\n",
       "    sequence are used, the index will override the keys found in the\n",
       "    dict.\n",
       "dtype : str, numpy.dtype, or ExtensionDtype, optional\n",
       "    Data type for the output Series. If not specified, this will be\n",
       "    inferred from `data`.\n",
       "    See the :ref:`user guide <basics.dtypes>` for more usages.\n",
       "copy : bool, default False\n",
       "    Copy input data.\n",
       "\u001b[0;31mFile:\u001b[0m           ~/miniconda3/envs/ds/lib/python3.7/site-packages/pandas/core/series.py\n",
       "\u001b[0;31mType:\u001b[0m           type\n",
       "\u001b[0;31mSubclasses:\u001b[0m     SparseSeries, SubclassedSeries\n"
      ]
     },
     "metadata": {},
     "output_type": "display_data"
    }
   ],
   "source": [
    "pd.Series?"
   ]
  },
  {
   "cell_type": "markdown",
   "metadata": {},
   "source": [
    "Para crear una instancia de una serie existen muchas opciones, las más comunes son:\n",
    "\n",
    "* A partir de una lista.\n",
    "* A partir de un _numpy.array_.\n",
    "* A partir de un diccionario.\n",
    "* A partir de un archivo (por ejemplo un csv)."
   ]
  },
  {
   "cell_type": "code",
   "execution_count": 4,
   "metadata": {},
   "outputs": [
    {
     "data": {
      "text/plain": [
       "0     3\n",
       "1     6\n",
       "2     9\n",
       "3    12\n",
       "4    15\n",
       "5    18\n",
       "6    21\n",
       "7    24\n",
       "8    27\n",
       "9    30\n",
       "dtype: int64"
      ]
     },
     "execution_count": 4,
     "metadata": {},
     "output_type": "execute_result"
    }
   ],
   "source": [
    "my_serie = pd.Series(range(3, 33, 3))\n",
    "my_serie"
   ]
  },
  {
   "cell_type": "code",
   "execution_count": 5,
   "metadata": {},
   "outputs": [
    {
     "data": {
      "text/plain": [
       "pandas.core.series.Series"
      ]
     },
     "execution_count": 5,
     "metadata": {},
     "output_type": "execute_result"
    }
   ],
   "source": [
    "type(my_serie)"
   ]
  },
  {
   "cell_type": "code",
   "execution_count": 6,
   "metadata": {},
   "outputs": [],
   "source": [
    "# Presiona TAB y sorpréndete con la cantidad de métodos y atributos que poseen!\n",
    "# my_serie."
   ]
  },
  {
   "cell_type": "markdown",
   "metadata": {},
   "source": [
    "Las series son arreglos unidemensionales que constan de _data_ e _index_."
   ]
  },
  {
   "cell_type": "code",
   "execution_count": 7,
   "metadata": {},
   "outputs": [
    {
     "data": {
      "text/plain": [
       "array([ 3,  6,  9, 12, 15, 18, 21, 24, 27, 30])"
      ]
     },
     "execution_count": 7,
     "metadata": {},
     "output_type": "execute_result"
    }
   ],
   "source": [
    "# Data\n",
    "my_serie.values"
   ]
  },
  {
   "cell_type": "code",
   "execution_count": 8,
   "metadata": {},
   "outputs": [
    {
     "data": {
      "text/plain": [
       "numpy.ndarray"
      ]
     },
     "execution_count": 8,
     "metadata": {},
     "output_type": "execute_result"
    }
   ],
   "source": [
    "type(my_serie.values)"
   ]
  },
  {
   "cell_type": "code",
   "execution_count": 9,
   "metadata": {},
   "outputs": [
    {
     "data": {
      "text/plain": [
       "RangeIndex(start=0, stop=10, step=1)"
      ]
     },
     "execution_count": 9,
     "metadata": {},
     "output_type": "execute_result"
    }
   ],
   "source": [
    "# Index\n",
    "my_serie.index"
   ]
  },
  {
   "cell_type": "code",
   "execution_count": 10,
   "metadata": {},
   "outputs": [
    {
     "data": {
      "text/plain": [
       "pandas.core.indexes.range.RangeIndex"
      ]
     },
     "execution_count": 10,
     "metadata": {},
     "output_type": "execute_result"
    }
   ],
   "source": [
    "type(my_serie.index)"
   ]
  },
  {
   "cell_type": "markdown",
   "metadata": {},
   "source": [
    "¿Te fijaste que el index es de otra clase?"
   ]
  },
  {
   "cell_type": "markdown",
   "metadata": {},
   "source": [
    "A diferencia de Numpy, pandas ofrece más flexibilidad para los valores e índices."
   ]
  },
  {
   "cell_type": "code",
   "execution_count": 11,
   "metadata": {},
   "outputs": [
    {
     "data": {
      "text/plain": [
       "a     3\n",
       "b     6\n",
       "c     9\n",
       "d    12\n",
       "e    15\n",
       "f    18\n",
       "g    21\n",
       "h    24\n",
       "i    27\n",
       "j    30\n",
       "dtype: int64"
      ]
     },
     "execution_count": 11,
     "metadata": {},
     "output_type": "execute_result"
    }
   ],
   "source": [
    "my_serie_2 = pd.Series(range(3, 33, 3), index=list('abcdefghij'))\n",
    "my_serie_2"
   ]
  },
  {
   "cell_type": "markdown",
   "metadata": {},
   "source": [
    "### Acceder a los valores de una"
   ]
  },
  {
   "cell_type": "code",
   "execution_count": 12,
   "metadata": {},
   "outputs": [
    {
     "data": {
      "text/plain": [
       "6"
      ]
     },
     "execution_count": 12,
     "metadata": {},
     "output_type": "execute_result"
    }
   ],
   "source": [
    "my_serie_2['b']"
   ]
  },
  {
   "cell_type": "code",
   "execution_count": 13,
   "metadata": {},
   "outputs": [
    {
     "data": {
      "text/plain": [
       "6"
      ]
     },
     "execution_count": 13,
     "metadata": {},
     "output_type": "execute_result"
    }
   ],
   "source": [
    "my_serie_2.loc['b']"
   ]
  },
  {
   "cell_type": "code",
   "execution_count": 14,
   "metadata": {},
   "outputs": [
    {
     "data": {
      "text/plain": [
       "6"
      ]
     },
     "execution_count": 14,
     "metadata": {},
     "output_type": "execute_result"
    }
   ],
   "source": [
    "my_serie_2.iloc[1]"
   ]
  },
  {
   "cell_type": "markdown",
   "metadata": {},
   "source": [
    "```loc```?? ```iloc```??"
   ]
  },
  {
   "cell_type": "code",
   "execution_count": 15,
   "metadata": {},
   "outputs": [],
   "source": [
    "# pd.Series.loc?"
   ]
  },
  {
   "cell_type": "markdown",
   "metadata": {},
   "source": [
    "A modo de resumen:\n",
    "\n",
    "* ```loc``` es un método que hace referencia a las etiquetas (*labels*) del objeto .\n",
    "* ```iloc``` es un método que hace referencia posicional del objeto."
   ]
  },
  {
   "cell_type": "markdown",
   "metadata": {},
   "source": [
    "**Consejo**: Si quieres editar valores siempre utiliza ```loc``` y/o ```iloc```."
   ]
  },
  {
   "cell_type": "code",
   "execution_count": 16,
   "metadata": {},
   "outputs": [],
   "source": [
    "my_serie_2.loc['d'] = 1000"
   ]
  },
  {
   "cell_type": "code",
   "execution_count": 17,
   "metadata": {},
   "outputs": [
    {
     "data": {
      "text/plain": [
       "a       3\n",
       "b       6\n",
       "c       9\n",
       "d    1000\n",
       "e      15\n",
       "f      18\n",
       "g      21\n",
       "h      24\n",
       "i      27\n",
       "j      30\n",
       "dtype: int64"
      ]
     },
     "execution_count": 17,
     "metadata": {},
     "output_type": "execute_result"
    }
   ],
   "source": [
    "my_serie_2"
   ]
  },
  {
   "cell_type": "markdown",
   "metadata": {},
   "source": [
    "¿Y si quiero escoger más de un valor?"
   ]
  },
  {
   "cell_type": "code",
   "execution_count": 18,
   "metadata": {},
   "outputs": [
    {
     "data": {
      "text/plain": [
       "b       6\n",
       "c       9\n",
       "d    1000\n",
       "e      15\n",
       "dtype: int64"
      ]
     },
     "execution_count": 18,
     "metadata": {},
     "output_type": "execute_result"
    }
   ],
   "source": [
    "my_serie_2.loc[\"b\":\"e\"]  # Incluso retorna el último valor!"
   ]
  },
  {
   "cell_type": "code",
   "execution_count": 19,
   "metadata": {},
   "outputs": [
    {
     "data": {
      "text/plain": [
       "b       6\n",
       "c       9\n",
       "d    1000\n",
       "e      15\n",
       "dtype: int64"
      ]
     },
     "execution_count": 19,
     "metadata": {},
     "output_type": "execute_result"
    }
   ],
   "source": [
    "my_serie_2.iloc[1:5]  # Incluso retorna el último valor!"
   ]
  },
  {
   "cell_type": "markdown",
   "metadata": {},
   "source": [
    "Sorpresa! También puedes filtrar según condiciones!"
   ]
  },
  {
   "cell_type": "markdown",
   "metadata": {},
   "source": [
    "En la mayoría de los tutoriales en internet encontrarás algo como lo siguiente:"
   ]
  },
  {
   "cell_type": "code",
   "execution_count": 20,
   "metadata": {},
   "outputs": [
    {
     "data": {
      "text/plain": [
       "b       6\n",
       "d    1000\n",
       "f      18\n",
       "h      24\n",
       "j      30\n",
       "dtype: int64"
      ]
     },
     "execution_count": 20,
     "metadata": {},
     "output_type": "execute_result"
    }
   ],
   "source": [
    "my_serie_2[my_serie_2 % 2 == 0]"
   ]
  },
  {
   "cell_type": "markdown",
   "metadata": {},
   "source": [
    "Lo siguiente se conoce como _mask_, y se basa en el siguiente hecho:"
   ]
  },
  {
   "cell_type": "code",
   "execution_count": 21,
   "metadata": {},
   "outputs": [
    {
     "data": {
      "text/plain": [
       "a    False\n",
       "b     True\n",
       "c    False\n",
       "d     True\n",
       "e    False\n",
       "f     True\n",
       "g    False\n",
       "h     True\n",
       "i    False\n",
       "j     True\n",
       "dtype: bool"
      ]
     },
     "execution_count": 21,
     "metadata": {},
     "output_type": "execute_result"
    }
   ],
   "source": [
    "my_serie_2 % 2 == 0  # Retorna una serie con valores booleanos pero los mismos index!"
   ]
  },
  {
   "cell_type": "markdown",
   "metadata": {},
   "source": [
    "Si es una serie resultante de otra operación, tendrás que guardarla en una variable para así tener el nombre y luego acceder a ella. La siguiente manera puede qeu sea un poco más verboso, pero te otorga más flexibilidad."
   ]
  },
  {
   "cell_type": "code",
   "execution_count": 22,
   "metadata": {},
   "outputs": [
    {
     "data": {
      "text/plain": [
       "b       6\n",
       "d    1000\n",
       "f      18\n",
       "h      24\n",
       "j      30\n",
       "dtype: int64"
      ]
     },
     "execution_count": 22,
     "metadata": {},
     "output_type": "execute_result"
    }
   ],
   "source": [
    "my_serie_2.loc[lambda s: s % 2 == 0]"
   ]
  },
  {
   "cell_type": "markdown",
   "metadata": {},
   "source": [
    "Una función lambda es una función pequeña y anónima. Pueden tomar cualquer número de argumentos pero solo tienen una expresión."
   ]
  },
  {
   "cell_type": "markdown",
   "metadata": {},
   "source": [
    "### Trabajar con fechas"
   ]
  },
  {
   "cell_type": "markdown",
   "metadata": {},
   "source": [
    "Pandas incluso permite que los index sean fechas! Por ejemplo, a continuación se crea una serie con las tendencia de búsqueda de *data science* en Google."
   ]
  },
  {
   "cell_type": "code",
   "execution_count": 23,
   "metadata": {},
   "outputs": [],
   "source": [
    "import os"
   ]
  },
  {
   "cell_type": "code",
   "execution_count": 24,
   "metadata": {},
   "outputs": [],
   "source": [
    "ds_trend = pd.read_csv(os.path.join('data', 'dataScienceTrend.csv'), index_col=0, squeeze=True)"
   ]
  },
  {
   "cell_type": "code",
   "execution_count": 25,
   "metadata": {},
   "outputs": [
    {
     "data": {
      "text/plain": [
       "week\n",
       "2013-09-29    15\n",
       "2013-10-06    15\n",
       "2013-10-13    14\n",
       "2013-10-20    14\n",
       "2013-10-27    14\n",
       "2013-11-03    14\n",
       "2013-11-10    15\n",
       "2013-11-17    16\n",
       "2013-11-24    12\n",
       "2013-12-01    17\n",
       "Name: trend, dtype: int64"
      ]
     },
     "execution_count": 25,
     "metadata": {},
     "output_type": "execute_result"
    }
   ],
   "source": [
    "ds_trend.head(10)"
   ]
  },
  {
   "cell_type": "code",
   "execution_count": 26,
   "metadata": {},
   "outputs": [
    {
     "data": {
      "text/plain": [
       "week\n",
       "2018-07-22     84\n",
       "2018-07-29     86\n",
       "2018-08-05     82\n",
       "2018-08-12     83\n",
       "2018-08-19     91\n",
       "2018-08-26     93\n",
       "2018-09-02    100\n",
       "2018-09-09     93\n",
       "2018-09-16     98\n",
       "2018-09-23     93\n",
       "Name: trend, dtype: int64"
      ]
     },
     "execution_count": 26,
     "metadata": {},
     "output_type": "execute_result"
    }
   ],
   "source": [
    "ds_trend.tail(10)"
   ]
  },
  {
   "cell_type": "code",
   "execution_count": 27,
   "metadata": {},
   "outputs": [
    {
     "data": {
      "text/plain": [
       "dtype('int64')"
      ]
     },
     "execution_count": 27,
     "metadata": {},
     "output_type": "execute_result"
    }
   ],
   "source": [
    "ds_trend.dtype"
   ]
  },
  {
   "cell_type": "code",
   "execution_count": 28,
   "metadata": {},
   "outputs": [
    {
     "data": {
      "text/plain": [
       "Index(['2013-09-29', '2013-10-06', '2013-10-13', '2013-10-20', '2013-10-27',\n",
       "       '2013-11-03', '2013-11-10', '2013-11-17', '2013-11-24', '2013-12-01',\n",
       "       ...\n",
       "       '2018-07-22', '2018-07-29', '2018-08-05', '2018-08-12', '2018-08-19',\n",
       "       '2018-08-26', '2018-09-02', '2018-09-09', '2018-09-16', '2018-09-23'],\n",
       "      dtype='object', name='week', length=261)"
      ]
     },
     "execution_count": 28,
     "metadata": {},
     "output_type": "execute_result"
    }
   ],
   "source": [
    "ds_trend.index"
   ]
  },
  {
   "cell_type": "markdown",
   "metadata": {},
   "source": [
    "**OJO!** Los valores del Index son _strings_ (_object_ es una generalización). "
   ]
  },
  {
   "cell_type": "markdown",
   "metadata": {},
   "source": [
    "**Solución:** _Parsear_ a elementos de fecha con la función ```pd.to_datetime()```."
   ]
  },
  {
   "cell_type": "code",
   "execution_count": 29,
   "metadata": {},
   "outputs": [],
   "source": [
    "# pd.to_datetime?"
   ]
  },
  {
   "cell_type": "code",
   "execution_count": 30,
   "metadata": {},
   "outputs": [],
   "source": [
    "ds_trend.index = pd.to_datetime(ds_trend.index, format='%Y-%m-%d')"
   ]
  },
  {
   "cell_type": "code",
   "execution_count": 31,
   "metadata": {},
   "outputs": [
    {
     "data": {
      "text/plain": [
       "DatetimeIndex(['2013-09-29', '2013-10-06', '2013-10-13', '2013-10-20',\n",
       "               '2013-10-27', '2013-11-03', '2013-11-10', '2013-11-17',\n",
       "               '2013-11-24', '2013-12-01',\n",
       "               ...\n",
       "               '2018-07-22', '2018-07-29', '2018-08-05', '2018-08-12',\n",
       "               '2018-08-19', '2018-08-26', '2018-09-02', '2018-09-09',\n",
       "               '2018-09-16', '2018-09-23'],\n",
       "              dtype='datetime64[ns]', name='week', length=261, freq=None)"
      ]
     },
     "execution_count": 31,
     "metadata": {},
     "output_type": "execute_result"
    }
   ],
   "source": [
    "ds_trend.index"
   ]
  },
  {
   "cell_type": "markdown",
   "metadata": {},
   "source": [
    "Para otros tipos de _parse_ puedes visitar la documentación [aquí](https://docs.python.org/3/library/datetime.html#strftime-and-strptime-behavior).\n"
   ]
  },
  {
   "cell_type": "markdown",
   "metadata": {},
   "source": [
    "La idea de los elementos de fecha es poder realizar operaciones que resulten naturales para el ser humano. Por ejemplo:"
   ]
  },
  {
   "cell_type": "code",
   "execution_count": 32,
   "metadata": {},
   "outputs": [
    {
     "data": {
      "text/plain": [
       "Timestamp('2013-09-29 00:00:00')"
      ]
     },
     "execution_count": 32,
     "metadata": {},
     "output_type": "execute_result"
    }
   ],
   "source": [
    "ds_trend.index.min()"
   ]
  },
  {
   "cell_type": "code",
   "execution_count": 33,
   "metadata": {},
   "outputs": [
    {
     "data": {
      "text/plain": [
       "Timestamp('2018-09-23 00:00:00')"
      ]
     },
     "execution_count": 33,
     "metadata": {},
     "output_type": "execute_result"
    }
   ],
   "source": [
    "ds_trend.index.max()"
   ]
  },
  {
   "cell_type": "code",
   "execution_count": 34,
   "metadata": {},
   "outputs": [
    {
     "data": {
      "text/plain": [
       "Timedelta('1820 days 00:00:00')"
      ]
     },
     "execution_count": 34,
     "metadata": {},
     "output_type": "execute_result"
    }
   ],
   "source": [
    "ds_trend.index.max() - ds_trend.index.min()"
   ]
  },
  {
   "cell_type": "markdown",
   "metadata": {},
   "source": [
    "Volviendo a la Serie, podemos trabajar con todos sus elementos, por ejemplo, determinar rápidamente la máxima tendencia."
   ]
  },
  {
   "cell_type": "code",
   "execution_count": 35,
   "metadata": {},
   "outputs": [
    {
     "data": {
      "text/plain": [
       "100"
      ]
     },
     "execution_count": 35,
     "metadata": {},
     "output_type": "execute_result"
    }
   ],
   "source": [
    "max_trend = ds_trend.max()\n",
    "max_trend "
   ]
  },
  {
   "cell_type": "markdown",
   "metadata": {},
   "source": [
    "Para determinar el _index_ correspondiente al valor máximo usualmente se utilizan dos formas:\n",
    "\n",
    "* Utilizar una máscara (*mask*)\n",
    "* Utilizar métodos ya implementados"
   ]
  },
  {
   "cell_type": "code",
   "execution_count": 36,
   "metadata": {},
   "outputs": [
    {
     "data": {
      "text/plain": [
       "week\n",
       "2018-09-02    100\n",
       "Name: trend, dtype: int64"
      ]
     },
     "execution_count": 36,
     "metadata": {},
     "output_type": "execute_result"
    }
   ],
   "source": [
    "# Mask\n",
    "ds_trend[ds_trend == max_trend]"
   ]
  },
  {
   "cell_type": "code",
   "execution_count": 37,
   "metadata": {},
   "outputs": [
    {
     "data": {
      "text/plain": [
       "Timestamp('2018-09-02 00:00:00')"
      ]
     },
     "execution_count": 37,
     "metadata": {},
     "output_type": "execute_result"
    }
   ],
   "source": [
    "# Built-in method\n",
    "ds_trend.idxmax()"
   ]
  },
  {
   "cell_type": "markdown",
   "metadata": {
    "slideshow": {
     "slide_type": "slide"
    }
   },
   "source": [
    "<a id='dataframes'></a>\n",
    "## DataFrames"
   ]
  },
  {
   "cell_type": "markdown",
   "metadata": {},
   "source": [
    "Arreglo bidimensional y extensión natural de una serie. Podemos pensarlo como la generalización de un numpy.array."
   ]
  },
  {
   "cell_type": "markdown",
   "metadata": {},
   "source": [
    "Utilizando el dataset de los jugadores de la NBA la flexibilidad de pandas se hace mucho más visible. No es necesario que todos los elementos sean del mismo tipo!"
   ]
  },
  {
   "cell_type": "code",
   "execution_count": 38,
   "metadata": {},
   "outputs": [
    {
     "data": {
      "text/html": [
       "<div>\n",
       "<style scoped>\n",
       "    .dataframe tbody tr th:only-of-type {\n",
       "        vertical-align: middle;\n",
       "    }\n",
       "\n",
       "    .dataframe tbody tr th {\n",
       "        vertical-align: top;\n",
       "    }\n",
       "\n",
       "    .dataframe thead th {\n",
       "        text-align: right;\n",
       "    }\n",
       "</style>\n",
       "<table border=\"1\" class=\"dataframe\">\n",
       "  <thead>\n",
       "    <tr style=\"text-align: right;\">\n",
       "      <th></th>\n",
       "      <th>year_start</th>\n",
       "      <th>year_end</th>\n",
       "      <th>position</th>\n",
       "      <th>height</th>\n",
       "      <th>weight</th>\n",
       "      <th>birth_date</th>\n",
       "      <th>college</th>\n",
       "    </tr>\n",
       "    <tr>\n",
       "      <th>name</th>\n",
       "      <th></th>\n",
       "      <th></th>\n",
       "      <th></th>\n",
       "      <th></th>\n",
       "      <th></th>\n",
       "      <th></th>\n",
       "      <th></th>\n",
       "    </tr>\n",
       "  </thead>\n",
       "  <tbody>\n",
       "    <tr>\n",
       "      <td>Alaa Abdelnaby</td>\n",
       "      <td>1991</td>\n",
       "      <td>1995</td>\n",
       "      <td>F-C</td>\n",
       "      <td>6-10</td>\n",
       "      <td>240.0</td>\n",
       "      <td>June 24, 1968</td>\n",
       "      <td>Duke University</td>\n",
       "    </tr>\n",
       "    <tr>\n",
       "      <td>Zaid Abdul-Aziz</td>\n",
       "      <td>1969</td>\n",
       "      <td>1978</td>\n",
       "      <td>C-F</td>\n",
       "      <td>6-9</td>\n",
       "      <td>235.0</td>\n",
       "      <td>April 7, 1946</td>\n",
       "      <td>Iowa State University</td>\n",
       "    </tr>\n",
       "    <tr>\n",
       "      <td>Kareem Abdul-Jabbar</td>\n",
       "      <td>1970</td>\n",
       "      <td>1989</td>\n",
       "      <td>C</td>\n",
       "      <td>7-2</td>\n",
       "      <td>225.0</td>\n",
       "      <td>April 16, 1947</td>\n",
       "      <td>University of California, Los Angeles</td>\n",
       "    </tr>\n",
       "    <tr>\n",
       "      <td>Mahmoud Abdul-Rauf</td>\n",
       "      <td>1991</td>\n",
       "      <td>2001</td>\n",
       "      <td>G</td>\n",
       "      <td>6-1</td>\n",
       "      <td>162.0</td>\n",
       "      <td>March 9, 1969</td>\n",
       "      <td>Louisiana State University</td>\n",
       "    </tr>\n",
       "    <tr>\n",
       "      <td>Tariq Abdul-Wahad</td>\n",
       "      <td>1998</td>\n",
       "      <td>2003</td>\n",
       "      <td>F</td>\n",
       "      <td>6-6</td>\n",
       "      <td>223.0</td>\n",
       "      <td>November 3, 1974</td>\n",
       "      <td>San Jose State University</td>\n",
       "    </tr>\n",
       "  </tbody>\n",
       "</table>\n",
       "</div>"
      ],
      "text/plain": [
       "                     year_start  year_end position height  weight  \\\n",
       "name                                                                \n",
       "Alaa Abdelnaby             1991      1995      F-C   6-10   240.0   \n",
       "Zaid Abdul-Aziz            1969      1978      C-F    6-9   235.0   \n",
       "Kareem Abdul-Jabbar        1970      1989        C    7-2   225.0   \n",
       "Mahmoud Abdul-Rauf         1991      2001        G    6-1   162.0   \n",
       "Tariq Abdul-Wahad          1998      2003        F    6-6   223.0   \n",
       "\n",
       "                           birth_date                                college  \n",
       "name                                                                          \n",
       "Alaa Abdelnaby          June 24, 1968                        Duke University  \n",
       "Zaid Abdul-Aziz         April 7, 1946                  Iowa State University  \n",
       "Kareem Abdul-Jabbar    April 16, 1947  University of California, Los Angeles  \n",
       "Mahmoud Abdul-Rauf      March 9, 1969             Louisiana State University  \n",
       "Tariq Abdul-Wahad    November 3, 1974              San Jose State University  "
      ]
     },
     "execution_count": 38,
     "metadata": {},
     "output_type": "execute_result"
    }
   ],
   "source": [
    "player_data = pd.read_csv(os.path.join('data', 'player_data.csv'), index_col='name')\n",
    "player_data.head()"
   ]
  },
  {
   "cell_type": "code",
   "execution_count": 39,
   "metadata": {},
   "outputs": [
    {
     "data": {
      "text/plain": [
       "pandas.core.frame.DataFrame"
      ]
     },
     "execution_count": 39,
     "metadata": {},
     "output_type": "execute_result"
    }
   ],
   "source": [
    "type(player_data)"
   ]
  },
  {
   "cell_type": "code",
   "execution_count": 40,
   "metadata": {},
   "outputs": [
    {
     "name": "stdout",
     "output_type": "stream",
     "text": [
      "<class 'pandas.core.frame.DataFrame'>\n",
      "Index: 4550 entries, Alaa Abdelnaby to Matt Zunic\n",
      "Data columns (total 7 columns):\n",
      "year_start    4550 non-null int64\n",
      "year_end      4550 non-null int64\n",
      "position      4549 non-null object\n",
      "height        4549 non-null object\n",
      "weight        4544 non-null float64\n",
      "birth_date    4519 non-null object\n",
      "college       4248 non-null object\n",
      "dtypes: float64(1), int64(2), object(4)\n",
      "memory usage: 284.4+ KB\n"
     ]
    }
   ],
   "source": [
    "player_data.info(memory_usage=True)"
   ]
  },
  {
   "cell_type": "code",
   "execution_count": 41,
   "metadata": {},
   "outputs": [
    {
     "data": {
      "text/plain": [
       "year_start      int64\n",
       "year_end        int64\n",
       "position       object\n",
       "height         object\n",
       "weight        float64\n",
       "birth_date     object\n",
       "college        object\n",
       "dtype: object"
      ]
     },
     "execution_count": 41,
     "metadata": {},
     "output_type": "execute_result"
    }
   ],
   "source": [
    "player_data.dtypes"
   ]
  },
  {
   "cell_type": "markdown",
   "metadata": {},
   "source": [
    "Puedes pensar que un dataframe es una colección de series"
   ]
  },
  {
   "cell_type": "code",
   "execution_count": 42,
   "metadata": {},
   "outputs": [
    {
     "data": {
      "text/plain": [
       "name\n",
       "Alaa Abdelnaby            June 24, 1968\n",
       "Zaid Abdul-Aziz           April 7, 1946\n",
       "Kareem Abdul-Jabbar      April 16, 1947\n",
       "Mahmoud Abdul-Rauf        March 9, 1969\n",
       "Tariq Abdul-Wahad      November 3, 1974\n",
       "Name: birth_date, dtype: object"
      ]
     },
     "execution_count": 42,
     "metadata": {},
     "output_type": "execute_result"
    }
   ],
   "source": [
    "player_data['birth_date'].head()"
   ]
  },
  {
   "cell_type": "code",
   "execution_count": 43,
   "metadata": {},
   "outputs": [
    {
     "data": {
      "text/plain": [
       "pandas.core.series.Series"
      ]
     },
     "execution_count": 43,
     "metadata": {},
     "output_type": "execute_result"
    }
   ],
   "source": [
    "type(player_data['birth_date'])"
   ]
  },
  {
   "cell_type": "markdown",
   "metadata": {},
   "source": [
    "### Exploración "
   ]
  },
  {
   "cell_type": "code",
   "execution_count": 44,
   "metadata": {},
   "outputs": [
    {
     "data": {
      "text/html": [
       "<div>\n",
       "<style scoped>\n",
       "    .dataframe tbody tr th:only-of-type {\n",
       "        vertical-align: middle;\n",
       "    }\n",
       "\n",
       "    .dataframe tbody tr th {\n",
       "        vertical-align: top;\n",
       "    }\n",
       "\n",
       "    .dataframe thead th {\n",
       "        text-align: right;\n",
       "    }\n",
       "</style>\n",
       "<table border=\"1\" class=\"dataframe\">\n",
       "  <thead>\n",
       "    <tr style=\"text-align: right;\">\n",
       "      <th></th>\n",
       "      <th>count</th>\n",
       "      <th>mean</th>\n",
       "      <th>std</th>\n",
       "      <th>min</th>\n",
       "      <th>25%</th>\n",
       "      <th>50%</th>\n",
       "      <th>75%</th>\n",
       "      <th>max</th>\n",
       "    </tr>\n",
       "  </thead>\n",
       "  <tbody>\n",
       "    <tr>\n",
       "      <td>year_start</td>\n",
       "      <td>4550.0</td>\n",
       "      <td>1985.076264</td>\n",
       "      <td>20.974188</td>\n",
       "      <td>1947.0</td>\n",
       "      <td>1969.0</td>\n",
       "      <td>1986.0</td>\n",
       "      <td>2003.0</td>\n",
       "      <td>2018.0</td>\n",
       "    </tr>\n",
       "    <tr>\n",
       "      <td>year_end</td>\n",
       "      <td>4550.0</td>\n",
       "      <td>1989.272527</td>\n",
       "      <td>21.874761</td>\n",
       "      <td>1947.0</td>\n",
       "      <td>1973.0</td>\n",
       "      <td>1992.0</td>\n",
       "      <td>2009.0</td>\n",
       "      <td>2018.0</td>\n",
       "    </tr>\n",
       "    <tr>\n",
       "      <td>weight</td>\n",
       "      <td>4544.0</td>\n",
       "      <td>208.908011</td>\n",
       "      <td>26.268662</td>\n",
       "      <td>114.0</td>\n",
       "      <td>190.0</td>\n",
       "      <td>210.0</td>\n",
       "      <td>225.0</td>\n",
       "      <td>360.0</td>\n",
       "    </tr>\n",
       "  </tbody>\n",
       "</table>\n",
       "</div>"
      ],
      "text/plain": [
       "             count         mean        std     min     25%     50%     75%  \\\n",
       "year_start  4550.0  1985.076264  20.974188  1947.0  1969.0  1986.0  2003.0   \n",
       "year_end    4550.0  1989.272527  21.874761  1947.0  1973.0  1992.0  2009.0   \n",
       "weight      4544.0   208.908011  26.268662   114.0   190.0   210.0   225.0   \n",
       "\n",
       "               max  \n",
       "year_start  2018.0  \n",
       "year_end    2018.0  \n",
       "weight       360.0  "
      ]
     },
     "execution_count": 44,
     "metadata": {},
     "output_type": "execute_result"
    }
   ],
   "source": [
    "player_data.describe().T"
   ]
  },
  {
   "cell_type": "code",
   "execution_count": 45,
   "metadata": {},
   "outputs": [
    {
     "data": {
      "text/html": [
       "<div>\n",
       "<style scoped>\n",
       "    .dataframe tbody tr th:only-of-type {\n",
       "        vertical-align: middle;\n",
       "    }\n",
       "\n",
       "    .dataframe tbody tr th {\n",
       "        vertical-align: top;\n",
       "    }\n",
       "\n",
       "    .dataframe thead th {\n",
       "        text-align: right;\n",
       "    }\n",
       "</style>\n",
       "<table border=\"1\" class=\"dataframe\">\n",
       "  <thead>\n",
       "    <tr style=\"text-align: right;\">\n",
       "      <th></th>\n",
       "      <th>count</th>\n",
       "      <th>unique</th>\n",
       "      <th>top</th>\n",
       "      <th>freq</th>\n",
       "      <th>mean</th>\n",
       "      <th>std</th>\n",
       "      <th>min</th>\n",
       "      <th>25%</th>\n",
       "      <th>50%</th>\n",
       "      <th>75%</th>\n",
       "      <th>max</th>\n",
       "    </tr>\n",
       "  </thead>\n",
       "  <tbody>\n",
       "    <tr>\n",
       "      <td>year_start</td>\n",
       "      <td>4550</td>\n",
       "      <td>NaN</td>\n",
       "      <td>NaN</td>\n",
       "      <td>NaN</td>\n",
       "      <td>1985.08</td>\n",
       "      <td>20.9742</td>\n",
       "      <td>1947</td>\n",
       "      <td>1969</td>\n",
       "      <td>1986</td>\n",
       "      <td>2003</td>\n",
       "      <td>2018</td>\n",
       "    </tr>\n",
       "    <tr>\n",
       "      <td>year_end</td>\n",
       "      <td>4550</td>\n",
       "      <td>NaN</td>\n",
       "      <td>NaN</td>\n",
       "      <td>NaN</td>\n",
       "      <td>1989.27</td>\n",
       "      <td>21.8748</td>\n",
       "      <td>1947</td>\n",
       "      <td>1973</td>\n",
       "      <td>1992</td>\n",
       "      <td>2009</td>\n",
       "      <td>2018</td>\n",
       "    </tr>\n",
       "    <tr>\n",
       "      <td>position</td>\n",
       "      <td>4549</td>\n",
       "      <td>7</td>\n",
       "      <td>G</td>\n",
       "      <td>1574</td>\n",
       "      <td>NaN</td>\n",
       "      <td>NaN</td>\n",
       "      <td>NaN</td>\n",
       "      <td>NaN</td>\n",
       "      <td>NaN</td>\n",
       "      <td>NaN</td>\n",
       "      <td>NaN</td>\n",
       "    </tr>\n",
       "    <tr>\n",
       "      <td>height</td>\n",
       "      <td>4549</td>\n",
       "      <td>28</td>\n",
       "      <td>6-7</td>\n",
       "      <td>473</td>\n",
       "      <td>NaN</td>\n",
       "      <td>NaN</td>\n",
       "      <td>NaN</td>\n",
       "      <td>NaN</td>\n",
       "      <td>NaN</td>\n",
       "      <td>NaN</td>\n",
       "      <td>NaN</td>\n",
       "    </tr>\n",
       "    <tr>\n",
       "      <td>weight</td>\n",
       "      <td>4544</td>\n",
       "      <td>NaN</td>\n",
       "      <td>NaN</td>\n",
       "      <td>NaN</td>\n",
       "      <td>208.908</td>\n",
       "      <td>26.2687</td>\n",
       "      <td>114</td>\n",
       "      <td>190</td>\n",
       "      <td>210</td>\n",
       "      <td>225</td>\n",
       "      <td>360</td>\n",
       "    </tr>\n",
       "    <tr>\n",
       "      <td>birth_date</td>\n",
       "      <td>4519</td>\n",
       "      <td>4161</td>\n",
       "      <td>November 18, 1969</td>\n",
       "      <td>3</td>\n",
       "      <td>NaN</td>\n",
       "      <td>NaN</td>\n",
       "      <td>NaN</td>\n",
       "      <td>NaN</td>\n",
       "      <td>NaN</td>\n",
       "      <td>NaN</td>\n",
       "      <td>NaN</td>\n",
       "    </tr>\n",
       "    <tr>\n",
       "      <td>college</td>\n",
       "      <td>4248</td>\n",
       "      <td>473</td>\n",
       "      <td>University of Kentucky</td>\n",
       "      <td>99</td>\n",
       "      <td>NaN</td>\n",
       "      <td>NaN</td>\n",
       "      <td>NaN</td>\n",
       "      <td>NaN</td>\n",
       "      <td>NaN</td>\n",
       "      <td>NaN</td>\n",
       "      <td>NaN</td>\n",
       "    </tr>\n",
       "  </tbody>\n",
       "</table>\n",
       "</div>"
      ],
      "text/plain": [
       "           count unique                     top  freq     mean      std   min  \\\n",
       "year_start  4550    NaN                     NaN   NaN  1985.08  20.9742  1947   \n",
       "year_end    4550    NaN                     NaN   NaN  1989.27  21.8748  1947   \n",
       "position    4549      7                       G  1574      NaN      NaN   NaN   \n",
       "height      4549     28                     6-7   473      NaN      NaN   NaN   \n",
       "weight      4544    NaN                     NaN   NaN  208.908  26.2687   114   \n",
       "birth_date  4519   4161       November 18, 1969     3      NaN      NaN   NaN   \n",
       "college     4248    473  University of Kentucky    99      NaN      NaN   NaN   \n",
       "\n",
       "             25%   50%   75%   max  \n",
       "year_start  1969  1986  2003  2018  \n",
       "year_end    1973  1992  2009  2018  \n",
       "position     NaN   NaN   NaN   NaN  \n",
       "height       NaN   NaN   NaN   NaN  \n",
       "weight       190   210   225   360  \n",
       "birth_date   NaN   NaN   NaN   NaN  \n",
       "college      NaN   NaN   NaN   NaN  "
      ]
     },
     "execution_count": 45,
     "metadata": {},
     "output_type": "execute_result"
    }
   ],
   "source": [
    "player_data.describe(include='all').T"
   ]
  },
  {
   "cell_type": "code",
   "execution_count": 46,
   "metadata": {},
   "outputs": [
    {
     "data": {
      "text/plain": [
       "year_start    2018.0\n",
       "year_end      2018.0\n",
       "weight         360.0\n",
       "dtype: float64"
      ]
     },
     "execution_count": 46,
     "metadata": {},
     "output_type": "execute_result"
    }
   ],
   "source": [
    "player_data.max()"
   ]
  },
  {
   "cell_type": "markdown",
   "metadata": {},
   "source": [
    "Para extraer elementos lo más recomendable es el método loc."
   ]
  },
  {
   "cell_type": "code",
   "execution_count": 47,
   "metadata": {},
   "outputs": [
    {
     "data": {
      "text/plain": [
       "'Iowa State University'"
      ]
     },
     "execution_count": 47,
     "metadata": {},
     "output_type": "execute_result"
    }
   ],
   "source": [
    "player_data.loc['Zaid Abdul-Aziz', 'college']"
   ]
  },
  {
   "cell_type": "markdown",
   "metadata": {},
   "source": [
    "Evita acceder con doble corchete"
   ]
  },
  {
   "cell_type": "code",
   "execution_count": 48,
   "metadata": {},
   "outputs": [
    {
     "data": {
      "text/plain": [
       "'Iowa State University'"
      ]
     },
     "execution_count": 48,
     "metadata": {},
     "output_type": "execute_result"
    }
   ],
   "source": [
    "player_data['college']['Zaid Abdul-Aziz']"
   ]
  },
  {
   "cell_type": "markdown",
   "metadata": {},
   "source": [
    "Aunque en ocasiones funcione, no se asegura que sea siempre así. [Más info aquí.](https://pandas.pydata.org/pandas-docs/stable/indexing.html#why-does-assignment-fail-when-using-chained-indexing)"
   ]
  },
  {
   "cell_type": "code",
   "execution_count": 59,
   "metadata": {},
   "outputs": [
    {
     "data": {
      "text/plain": [
       "G      1574\n",
       "F      1290\n",
       "C       502\n",
       "F-C     388\n",
       "G-F     360\n",
       "C-F     219\n",
       "F-G     216\n",
       "Name: position, dtype: int64"
      ]
     },
     "execution_count": 59,
     "metadata": {},
     "output_type": "execute_result"
    }
   ],
   "source": [
    "player_data['position'].value_counts()"
   ]
  },
  {
   "cell_type": "markdown",
   "metadata": {},
   "source": [
    "### Valores perdidos/nulos"
   ]
  },
  {
   "cell_type": "markdown",
   "metadata": {},
   "source": [
    "Pandas ofrece herramientas para trabajar con valors nulos, pero es necesario conocerlas y saber aplicarlas. Por ejemplo, el método ```isnull()``` entrega un booleano si algún valor es nulo."
   ]
  },
  {
   "cell_type": "markdown",
   "metadata": {},
   "source": [
    "Por ejemplo: ¿Qué jugadores no tienen registrado su fecha de nacimiento?"
   ]
  },
  {
   "cell_type": "code",
   "execution_count": 49,
   "metadata": {},
   "outputs": [
    {
     "data": {
      "text/plain": [
       "(4550,)"
      ]
     },
     "execution_count": 49,
     "metadata": {},
     "output_type": "execute_result"
    }
   ],
   "source": [
    "player_data.index.shape"
   ]
  },
  {
   "cell_type": "code",
   "execution_count": 58,
   "metadata": {},
   "outputs": [
    {
     "data": {
      "text/html": [
       "<div>\n",
       "<style scoped>\n",
       "    .dataframe tbody tr th:only-of-type {\n",
       "        vertical-align: middle;\n",
       "    }\n",
       "\n",
       "    .dataframe tbody tr th {\n",
       "        vertical-align: top;\n",
       "    }\n",
       "\n",
       "    .dataframe thead th {\n",
       "        text-align: right;\n",
       "    }\n",
       "</style>\n",
       "<table border=\"1\" class=\"dataframe\">\n",
       "  <thead>\n",
       "    <tr style=\"text-align: right;\">\n",
       "      <th></th>\n",
       "      <th>year_start</th>\n",
       "      <th>year_end</th>\n",
       "      <th>position</th>\n",
       "      <th>height</th>\n",
       "      <th>weight</th>\n",
       "      <th>birth_date</th>\n",
       "      <th>college</th>\n",
       "    </tr>\n",
       "    <tr>\n",
       "      <th>name</th>\n",
       "      <th></th>\n",
       "      <th></th>\n",
       "      <th></th>\n",
       "      <th></th>\n",
       "      <th></th>\n",
       "      <th></th>\n",
       "      <th></th>\n",
       "    </tr>\n",
       "  </thead>\n",
       "  <tbody>\n",
       "    <tr>\n",
       "      <td>Bill Allen</td>\n",
       "      <td>1968</td>\n",
       "      <td>1968</td>\n",
       "      <td>C-F</td>\n",
       "      <td>6-8</td>\n",
       "      <td>205.0</td>\n",
       "      <td>NaN</td>\n",
       "      <td>New Mexico State University</td>\n",
       "    </tr>\n",
       "    <tr>\n",
       "      <td>Don Bielke</td>\n",
       "      <td>1956</td>\n",
       "      <td>1956</td>\n",
       "      <td>C</td>\n",
       "      <td>6-7</td>\n",
       "      <td>240.0</td>\n",
       "      <td>NaN</td>\n",
       "      <td>Valparaiso University</td>\n",
       "    </tr>\n",
       "    <tr>\n",
       "      <td>Clarence Brookins</td>\n",
       "      <td>1971</td>\n",
       "      <td>1971</td>\n",
       "      <td>F</td>\n",
       "      <td>6-4</td>\n",
       "      <td>190.0</td>\n",
       "      <td>NaN</td>\n",
       "      <td>Temple University</td>\n",
       "    </tr>\n",
       "    <tr>\n",
       "      <td>Walter Byrd</td>\n",
       "      <td>1970</td>\n",
       "      <td>1970</td>\n",
       "      <td>F</td>\n",
       "      <td>6-7</td>\n",
       "      <td>205.0</td>\n",
       "      <td>NaN</td>\n",
       "      <td>Temple University</td>\n",
       "    </tr>\n",
       "    <tr>\n",
       "      <td>Ken Corley</td>\n",
       "      <td>1947</td>\n",
       "      <td>1947</td>\n",
       "      <td>C</td>\n",
       "      <td>6-5</td>\n",
       "      <td>210.0</td>\n",
       "      <td>NaN</td>\n",
       "      <td>Oklahoma State Teachers College</td>\n",
       "    </tr>\n",
       "    <tr>\n",
       "      <td>Mack Daughtry</td>\n",
       "      <td>1971</td>\n",
       "      <td>1971</td>\n",
       "      <td>G</td>\n",
       "      <td>6-3</td>\n",
       "      <td>175.0</td>\n",
       "      <td>NaN</td>\n",
       "      <td>Albany State University</td>\n",
       "    </tr>\n",
       "    <tr>\n",
       "      <td>Harry Dinnel</td>\n",
       "      <td>1968</td>\n",
       "      <td>1968</td>\n",
       "      <td>F-G</td>\n",
       "      <td>6-4</td>\n",
       "      <td>200.0</td>\n",
       "      <td>NaN</td>\n",
       "      <td>Pepperdine University</td>\n",
       "    </tr>\n",
       "    <tr>\n",
       "      <td>Rich Dumas</td>\n",
       "      <td>1969</td>\n",
       "      <td>1969</td>\n",
       "      <td>G</td>\n",
       "      <td>6-3</td>\n",
       "      <td>170.0</td>\n",
       "      <td>NaN</td>\n",
       "      <td>Northeastern State University</td>\n",
       "    </tr>\n",
       "    <tr>\n",
       "      <td>Gene Gillette</td>\n",
       "      <td>1947</td>\n",
       "      <td>1947</td>\n",
       "      <td>F</td>\n",
       "      <td>6-2</td>\n",
       "      <td>205.0</td>\n",
       "      <td>NaN</td>\n",
       "      <td>Saint Mary's College of California</td>\n",
       "    </tr>\n",
       "    <tr>\n",
       "      <td>Darrell Hardy</td>\n",
       "      <td>1968</td>\n",
       "      <td>1968</td>\n",
       "      <td>F</td>\n",
       "      <td>6-7</td>\n",
       "      <td>220.0</td>\n",
       "      <td>NaN</td>\n",
       "      <td>Baylor University</td>\n",
       "    </tr>\n",
       "    <tr>\n",
       "      <td>Wilber Kirkland</td>\n",
       "      <td>1970</td>\n",
       "      <td>1970</td>\n",
       "      <td>F</td>\n",
       "      <td>6-7</td>\n",
       "      <td>190.0</td>\n",
       "      <td>NaN</td>\n",
       "      <td>Cheyney University of Pennsylvania</td>\n",
       "    </tr>\n",
       "    <tr>\n",
       "      <td>Dick Lee</td>\n",
       "      <td>1968</td>\n",
       "      <td>1968</td>\n",
       "      <td>F</td>\n",
       "      <td>6-6</td>\n",
       "      <td>NaN</td>\n",
       "      <td>NaN</td>\n",
       "      <td>University of Washington</td>\n",
       "    </tr>\n",
       "    <tr>\n",
       "      <td>R.B. Lynam</td>\n",
       "      <td>1968</td>\n",
       "      <td>1968</td>\n",
       "      <td>G</td>\n",
       "      <td>6-1</td>\n",
       "      <td>190.0</td>\n",
       "      <td>NaN</td>\n",
       "      <td>Oklahoma Baptist University</td>\n",
       "    </tr>\n",
       "    <tr>\n",
       "      <td>Ken McBride</td>\n",
       "      <td>1955</td>\n",
       "      <td>1955</td>\n",
       "      <td>G-F</td>\n",
       "      <td>6-3</td>\n",
       "      <td>190.0</td>\n",
       "      <td>NaN</td>\n",
       "      <td>University of Maryland Eastern Shore</td>\n",
       "    </tr>\n",
       "    <tr>\n",
       "      <td>Howie McCarty</td>\n",
       "      <td>1947</td>\n",
       "      <td>1947</td>\n",
       "      <td>F-G</td>\n",
       "      <td>6-2</td>\n",
       "      <td>190.0</td>\n",
       "      <td>NaN</td>\n",
       "      <td>Wayne State University</td>\n",
       "    </tr>\n",
       "    <tr>\n",
       "      <td>Larry Moore</td>\n",
       "      <td>1968</td>\n",
       "      <td>1968</td>\n",
       "      <td>F</td>\n",
       "      <td>6-7</td>\n",
       "      <td>215.0</td>\n",
       "      <td>NaN</td>\n",
       "      <td>NaN</td>\n",
       "    </tr>\n",
       "    <tr>\n",
       "      <td>Richard Moore</td>\n",
       "      <td>1968</td>\n",
       "      <td>1968</td>\n",
       "      <td>G</td>\n",
       "      <td>6-2</td>\n",
       "      <td>190.0</td>\n",
       "      <td>NaN</td>\n",
       "      <td>Hiram Scott College</td>\n",
       "    </tr>\n",
       "    <tr>\n",
       "      <td>Mike O'Neill</td>\n",
       "      <td>1953</td>\n",
       "      <td>1953</td>\n",
       "      <td>F</td>\n",
       "      <td>6-3</td>\n",
       "      <td>210.0</td>\n",
       "      <td>NaN</td>\n",
       "      <td>University of California</td>\n",
       "    </tr>\n",
       "    <tr>\n",
       "      <td>Errol Palmer</td>\n",
       "      <td>1968</td>\n",
       "      <td>1968</td>\n",
       "      <td>F</td>\n",
       "      <td>6-5</td>\n",
       "      <td>195.0</td>\n",
       "      <td>NaN</td>\n",
       "      <td>DePaul University</td>\n",
       "    </tr>\n",
       "    <tr>\n",
       "      <td>Charles Parks</td>\n",
       "      <td>1969</td>\n",
       "      <td>1969</td>\n",
       "      <td>F</td>\n",
       "      <td>6-5</td>\n",
       "      <td>210.0</td>\n",
       "      <td>NaN</td>\n",
       "      <td>Idaho State University</td>\n",
       "    </tr>\n",
       "    <tr>\n",
       "      <td>Frank Reddout</td>\n",
       "      <td>1954</td>\n",
       "      <td>1954</td>\n",
       "      <td>F</td>\n",
       "      <td>6-5</td>\n",
       "      <td>195.0</td>\n",
       "      <td>NaN</td>\n",
       "      <td>Syracuse University</td>\n",
       "    </tr>\n",
       "    <tr>\n",
       "      <td>Bob Schafer</td>\n",
       "      <td>1956</td>\n",
       "      <td>1957</td>\n",
       "      <td>G</td>\n",
       "      <td>6-3</td>\n",
       "      <td>195.0</td>\n",
       "      <td>NaN</td>\n",
       "      <td>Villanova University</td>\n",
       "    </tr>\n",
       "    <tr>\n",
       "      <td>Pete Smith</td>\n",
       "      <td>1973</td>\n",
       "      <td>1973</td>\n",
       "      <td>F</td>\n",
       "      <td>6-6</td>\n",
       "      <td>205.0</td>\n",
       "      <td>NaN</td>\n",
       "      <td>Valdosta State University</td>\n",
       "    </tr>\n",
       "    <tr>\n",
       "      <td>Bruce Spraggins</td>\n",
       "      <td>1968</td>\n",
       "      <td>1968</td>\n",
       "      <td>F</td>\n",
       "      <td>6-5</td>\n",
       "      <td>188.0</td>\n",
       "      <td>NaN</td>\n",
       "      <td>Virginia Union University</td>\n",
       "    </tr>\n",
       "    <tr>\n",
       "      <td>Erv Staggs</td>\n",
       "      <td>1970</td>\n",
       "      <td>1970</td>\n",
       "      <td>F-G</td>\n",
       "      <td>6-6</td>\n",
       "      <td>195.0</td>\n",
       "      <td>NaN</td>\n",
       "      <td>Cheyney University of Pennsylvania</td>\n",
       "    </tr>\n",
       "    <tr>\n",
       "      <td>Randy Stoll</td>\n",
       "      <td>1968</td>\n",
       "      <td>1968</td>\n",
       "      <td>C</td>\n",
       "      <td>6-7</td>\n",
       "      <td>235.0</td>\n",
       "      <td>NaN</td>\n",
       "      <td>Washington State University</td>\n",
       "    </tr>\n",
       "    <tr>\n",
       "      <td>Willis Thomas</td>\n",
       "      <td>1968</td>\n",
       "      <td>1968</td>\n",
       "      <td>G</td>\n",
       "      <td>6-2</td>\n",
       "      <td>185.0</td>\n",
       "      <td>NaN</td>\n",
       "      <td>Tennessee State University</td>\n",
       "    </tr>\n",
       "    <tr>\n",
       "      <td>Gary Turner</td>\n",
       "      <td>1968</td>\n",
       "      <td>1968</td>\n",
       "      <td>F</td>\n",
       "      <td>6-7</td>\n",
       "      <td>200.0</td>\n",
       "      <td>NaN</td>\n",
       "      <td>Texas Christian University</td>\n",
       "    </tr>\n",
       "    <tr>\n",
       "      <td>Dexter Westbrook</td>\n",
       "      <td>1968</td>\n",
       "      <td>1968</td>\n",
       "      <td>F</td>\n",
       "      <td>6-8</td>\n",
       "      <td>190.0</td>\n",
       "      <td>NaN</td>\n",
       "      <td>Providence College</td>\n",
       "    </tr>\n",
       "    <tr>\n",
       "      <td>Bobby Wilson</td>\n",
       "      <td>1968</td>\n",
       "      <td>1968</td>\n",
       "      <td>F</td>\n",
       "      <td>6-8</td>\n",
       "      <td>215.0</td>\n",
       "      <td>NaN</td>\n",
       "      <td>University of Kansas</td>\n",
       "    </tr>\n",
       "    <tr>\n",
       "      <td>Jim Wilson</td>\n",
       "      <td>1971</td>\n",
       "      <td>1971</td>\n",
       "      <td>G</td>\n",
       "      <td>5-10</td>\n",
       "      <td>175.0</td>\n",
       "      <td>NaN</td>\n",
       "      <td>Cheyney University of Pennsylvania</td>\n",
       "    </tr>\n",
       "  </tbody>\n",
       "</table>\n",
       "</div>"
      ],
      "text/plain": [
       "                   year_start  year_end position height  weight birth_date  \\\n",
       "name                                                                         \n",
       "Bill Allen               1968      1968      C-F    6-8   205.0        NaN   \n",
       "Don Bielke               1956      1956        C    6-7   240.0        NaN   \n",
       "Clarence Brookins        1971      1971        F    6-4   190.0        NaN   \n",
       "Walter Byrd              1970      1970        F    6-7   205.0        NaN   \n",
       "Ken Corley               1947      1947        C    6-5   210.0        NaN   \n",
       "Mack Daughtry            1971      1971        G    6-3   175.0        NaN   \n",
       "Harry Dinnel             1968      1968      F-G    6-4   200.0        NaN   \n",
       "Rich Dumas               1969      1969        G    6-3   170.0        NaN   \n",
       "Gene Gillette            1947      1947        F    6-2   205.0        NaN   \n",
       "Darrell Hardy            1968      1968        F    6-7   220.0        NaN   \n",
       "Wilber Kirkland          1970      1970        F    6-7   190.0        NaN   \n",
       "Dick Lee                 1968      1968        F    6-6     NaN        NaN   \n",
       "R.B. Lynam               1968      1968        G    6-1   190.0        NaN   \n",
       "Ken McBride              1955      1955      G-F    6-3   190.0        NaN   \n",
       "Howie McCarty            1947      1947      F-G    6-2   190.0        NaN   \n",
       "Larry Moore              1968      1968        F    6-7   215.0        NaN   \n",
       "Richard Moore            1968      1968        G    6-2   190.0        NaN   \n",
       "Mike O'Neill             1953      1953        F    6-3   210.0        NaN   \n",
       "Errol Palmer             1968      1968        F    6-5   195.0        NaN   \n",
       "Charles Parks            1969      1969        F    6-5   210.0        NaN   \n",
       "Frank Reddout            1954      1954        F    6-5   195.0        NaN   \n",
       "Bob Schafer              1956      1957        G    6-3   195.0        NaN   \n",
       "Pete Smith               1973      1973        F    6-6   205.0        NaN   \n",
       "Bruce Spraggins          1968      1968        F    6-5   188.0        NaN   \n",
       "Erv Staggs               1970      1970      F-G    6-6   195.0        NaN   \n",
       "Randy Stoll              1968      1968        C    6-7   235.0        NaN   \n",
       "Willis Thomas            1968      1968        G    6-2   185.0        NaN   \n",
       "Gary Turner              1968      1968        F    6-7   200.0        NaN   \n",
       "Dexter Westbrook         1968      1968        F    6-8   190.0        NaN   \n",
       "Bobby Wilson             1968      1968        F    6-8   215.0        NaN   \n",
       "Jim Wilson               1971      1971        G   5-10   175.0        NaN   \n",
       "\n",
       "                                                college  \n",
       "name                                                     \n",
       "Bill Allen                  New Mexico State University  \n",
       "Don Bielke                        Valparaiso University  \n",
       "Clarence Brookins                     Temple University  \n",
       "Walter Byrd                           Temple University  \n",
       "Ken Corley              Oklahoma State Teachers College  \n",
       "Mack Daughtry                   Albany State University  \n",
       "Harry Dinnel                      Pepperdine University  \n",
       "Rich Dumas                Northeastern State University  \n",
       "Gene Gillette        Saint Mary's College of California  \n",
       "Darrell Hardy                         Baylor University  \n",
       "Wilber Kirkland      Cheyney University of Pennsylvania  \n",
       "Dick Lee                       University of Washington  \n",
       "R.B. Lynam                  Oklahoma Baptist University  \n",
       "Ken McBride        University of Maryland Eastern Shore  \n",
       "Howie McCarty                    Wayne State University  \n",
       "Larry Moore                                         NaN  \n",
       "Richard Moore                       Hiram Scott College  \n",
       "Mike O'Neill                   University of California  \n",
       "Errol Palmer                          DePaul University  \n",
       "Charles Parks                    Idaho State University  \n",
       "Frank Reddout                       Syracuse University  \n",
       "Bob Schafer                        Villanova University  \n",
       "Pete Smith                    Valdosta State University  \n",
       "Bruce Spraggins               Virginia Union University  \n",
       "Erv Staggs           Cheyney University of Pennsylvania  \n",
       "Randy Stoll                 Washington State University  \n",
       "Willis Thomas                Tennessee State University  \n",
       "Gary Turner                  Texas Christian University  \n",
       "Dexter Westbrook                     Providence College  \n",
       "Bobby Wilson                       University of Kansas  \n",
       "Jim Wilson           Cheyney University of Pennsylvania  "
      ]
     },
     "execution_count": 58,
     "metadata": {},
     "output_type": "execute_result"
    }
   ],
   "source": [
    "player_data.loc[lambda x: x['birth_date'].isnull()]"
   ]
  },
  {
   "cell_type": "markdown",
   "metadata": {},
   "source": [
    "Si deseamos encontrar todas las filas que contengan por lo menos un valor nulo."
   ]
  },
  {
   "cell_type": "code",
   "execution_count": 51,
   "metadata": {},
   "outputs": [
    {
     "data": {
      "text/html": [
       "<div>\n",
       "<style scoped>\n",
       "    .dataframe tbody tr th:only-of-type {\n",
       "        vertical-align: middle;\n",
       "    }\n",
       "\n",
       "    .dataframe tbody tr th {\n",
       "        vertical-align: top;\n",
       "    }\n",
       "\n",
       "    .dataframe thead th {\n",
       "        text-align: right;\n",
       "    }\n",
       "</style>\n",
       "<table border=\"1\" class=\"dataframe\">\n",
       "  <thead>\n",
       "    <tr style=\"text-align: right;\">\n",
       "      <th></th>\n",
       "      <th>year_start</th>\n",
       "      <th>year_end</th>\n",
       "      <th>position</th>\n",
       "      <th>height</th>\n",
       "      <th>weight</th>\n",
       "      <th>birth_date</th>\n",
       "      <th>college</th>\n",
       "    </tr>\n",
       "    <tr>\n",
       "      <th>name</th>\n",
       "      <th></th>\n",
       "      <th></th>\n",
       "      <th></th>\n",
       "      <th></th>\n",
       "      <th></th>\n",
       "      <th></th>\n",
       "      <th></th>\n",
       "    </tr>\n",
       "  </thead>\n",
       "  <tbody>\n",
       "    <tr>\n",
       "      <td>Alaa Abdelnaby</td>\n",
       "      <td>False</td>\n",
       "      <td>False</td>\n",
       "      <td>False</td>\n",
       "      <td>False</td>\n",
       "      <td>False</td>\n",
       "      <td>False</td>\n",
       "      <td>False</td>\n",
       "    </tr>\n",
       "    <tr>\n",
       "      <td>Zaid Abdul-Aziz</td>\n",
       "      <td>False</td>\n",
       "      <td>False</td>\n",
       "      <td>False</td>\n",
       "      <td>False</td>\n",
       "      <td>False</td>\n",
       "      <td>False</td>\n",
       "      <td>False</td>\n",
       "    </tr>\n",
       "    <tr>\n",
       "      <td>Kareem Abdul-Jabbar</td>\n",
       "      <td>False</td>\n",
       "      <td>False</td>\n",
       "      <td>False</td>\n",
       "      <td>False</td>\n",
       "      <td>False</td>\n",
       "      <td>False</td>\n",
       "      <td>False</td>\n",
       "    </tr>\n",
       "    <tr>\n",
       "      <td>Mahmoud Abdul-Rauf</td>\n",
       "      <td>False</td>\n",
       "      <td>False</td>\n",
       "      <td>False</td>\n",
       "      <td>False</td>\n",
       "      <td>False</td>\n",
       "      <td>False</td>\n",
       "      <td>False</td>\n",
       "    </tr>\n",
       "    <tr>\n",
       "      <td>Tariq Abdul-Wahad</td>\n",
       "      <td>False</td>\n",
       "      <td>False</td>\n",
       "      <td>False</td>\n",
       "      <td>False</td>\n",
       "      <td>False</td>\n",
       "      <td>False</td>\n",
       "      <td>False</td>\n",
       "    </tr>\n",
       "    <tr>\n",
       "      <td>...</td>\n",
       "      <td>...</td>\n",
       "      <td>...</td>\n",
       "      <td>...</td>\n",
       "      <td>...</td>\n",
       "      <td>...</td>\n",
       "      <td>...</td>\n",
       "      <td>...</td>\n",
       "    </tr>\n",
       "    <tr>\n",
       "      <td>Ante Zizic</td>\n",
       "      <td>False</td>\n",
       "      <td>False</td>\n",
       "      <td>False</td>\n",
       "      <td>False</td>\n",
       "      <td>False</td>\n",
       "      <td>False</td>\n",
       "      <td>True</td>\n",
       "    </tr>\n",
       "    <tr>\n",
       "      <td>Jim Zoet</td>\n",
       "      <td>False</td>\n",
       "      <td>False</td>\n",
       "      <td>False</td>\n",
       "      <td>False</td>\n",
       "      <td>False</td>\n",
       "      <td>False</td>\n",
       "      <td>False</td>\n",
       "    </tr>\n",
       "    <tr>\n",
       "      <td>Bill Zopf</td>\n",
       "      <td>False</td>\n",
       "      <td>False</td>\n",
       "      <td>False</td>\n",
       "      <td>False</td>\n",
       "      <td>False</td>\n",
       "      <td>False</td>\n",
       "      <td>False</td>\n",
       "    </tr>\n",
       "    <tr>\n",
       "      <td>Ivica Zubac</td>\n",
       "      <td>False</td>\n",
       "      <td>False</td>\n",
       "      <td>False</td>\n",
       "      <td>False</td>\n",
       "      <td>False</td>\n",
       "      <td>False</td>\n",
       "      <td>True</td>\n",
       "    </tr>\n",
       "    <tr>\n",
       "      <td>Matt Zunic</td>\n",
       "      <td>False</td>\n",
       "      <td>False</td>\n",
       "      <td>False</td>\n",
       "      <td>False</td>\n",
       "      <td>False</td>\n",
       "      <td>False</td>\n",
       "      <td>False</td>\n",
       "    </tr>\n",
       "  </tbody>\n",
       "</table>\n",
       "<p>4550 rows × 7 columns</p>\n",
       "</div>"
      ],
      "text/plain": [
       "                     year_start  year_end  position  height  weight  \\\n",
       "name                                                                  \n",
       "Alaa Abdelnaby            False     False     False   False   False   \n",
       "Zaid Abdul-Aziz           False     False     False   False   False   \n",
       "Kareem Abdul-Jabbar       False     False     False   False   False   \n",
       "Mahmoud Abdul-Rauf        False     False     False   False   False   \n",
       "Tariq Abdul-Wahad         False     False     False   False   False   \n",
       "...                         ...       ...       ...     ...     ...   \n",
       "Ante Zizic                False     False     False   False   False   \n",
       "Jim Zoet                  False     False     False   False   False   \n",
       "Bill Zopf                 False     False     False   False   False   \n",
       "Ivica Zubac               False     False     False   False   False   \n",
       "Matt Zunic                False     False     False   False   False   \n",
       "\n",
       "                     birth_date  college  \n",
       "name                                      \n",
       "Alaa Abdelnaby            False    False  \n",
       "Zaid Abdul-Aziz           False    False  \n",
       "Kareem Abdul-Jabbar       False    False  \n",
       "Mahmoud Abdul-Rauf        False    False  \n",
       "Tariq Abdul-Wahad         False    False  \n",
       "...                         ...      ...  \n",
       "Ante Zizic                False     True  \n",
       "Jim Zoet                  False    False  \n",
       "Bill Zopf                 False    False  \n",
       "Ivica Zubac               False     True  \n",
       "Matt Zunic                False    False  \n",
       "\n",
       "[4550 rows x 7 columns]"
      ]
     },
     "execution_count": 51,
     "metadata": {},
     "output_type": "execute_result"
    }
   ],
   "source": [
    "player_data.isnull()"
   ]
  },
  {
   "cell_type": "code",
   "execution_count": 52,
   "metadata": {},
   "outputs": [],
   "source": [
    "# pd.DataFrame.any?"
   ]
  },
  {
   "cell_type": "code",
   "execution_count": 53,
   "metadata": {},
   "outputs": [
    {
     "data": {
      "text/plain": [
       "name\n",
       "Alaa Abdelnaby         False\n",
       "Zaid Abdul-Aziz        False\n",
       "Kareem Abdul-Jabbar    False\n",
       "Mahmoud Abdul-Rauf     False\n",
       "Tariq Abdul-Wahad      False\n",
       "dtype: bool"
      ]
     },
     "execution_count": 53,
     "metadata": {},
     "output_type": "execute_result"
    }
   ],
   "source": [
    "rows_null_mask = player_data.isnull().any(axis=1)  # axis=1 hace referencia a las filas.\n",
    "rows_null_mask.head()"
   ]
  },
  {
   "cell_type": "code",
   "execution_count": 54,
   "metadata": {},
   "outputs": [
    {
     "data": {
      "text/html": [
       "<div>\n",
       "<style scoped>\n",
       "    .dataframe tbody tr th:only-of-type {\n",
       "        vertical-align: middle;\n",
       "    }\n",
       "\n",
       "    .dataframe tbody tr th {\n",
       "        vertical-align: top;\n",
       "    }\n",
       "\n",
       "    .dataframe thead th {\n",
       "        text-align: right;\n",
       "    }\n",
       "</style>\n",
       "<table border=\"1\" class=\"dataframe\">\n",
       "  <thead>\n",
       "    <tr style=\"text-align: right;\">\n",
       "      <th></th>\n",
       "      <th>year_start</th>\n",
       "      <th>year_end</th>\n",
       "      <th>position</th>\n",
       "      <th>height</th>\n",
       "      <th>weight</th>\n",
       "      <th>birth_date</th>\n",
       "      <th>college</th>\n",
       "    </tr>\n",
       "    <tr>\n",
       "      <th>name</th>\n",
       "      <th></th>\n",
       "      <th></th>\n",
       "      <th></th>\n",
       "      <th></th>\n",
       "      <th></th>\n",
       "      <th></th>\n",
       "      <th></th>\n",
       "    </tr>\n",
       "  </thead>\n",
       "  <tbody>\n",
       "    <tr>\n",
       "      <td>Alex Abrines</td>\n",
       "      <td>2017</td>\n",
       "      <td>2018</td>\n",
       "      <td>G-F</td>\n",
       "      <td>6-6</td>\n",
       "      <td>190.0</td>\n",
       "      <td>August 1, 1993</td>\n",
       "      <td>NaN</td>\n",
       "    </tr>\n",
       "    <tr>\n",
       "      <td>Alexis Ajinca</td>\n",
       "      <td>2009</td>\n",
       "      <td>2017</td>\n",
       "      <td>C</td>\n",
       "      <td>7-2</td>\n",
       "      <td>248.0</td>\n",
       "      <td>May 6, 1988</td>\n",
       "      <td>NaN</td>\n",
       "    </tr>\n",
       "    <tr>\n",
       "      <td>Furkan Aldemir</td>\n",
       "      <td>2015</td>\n",
       "      <td>2015</td>\n",
       "      <td>F-C</td>\n",
       "      <td>6-10</td>\n",
       "      <td>240.0</td>\n",
       "      <td>August 9, 1991</td>\n",
       "      <td>NaN</td>\n",
       "    </tr>\n",
       "    <tr>\n",
       "      <td>Bill Allen</td>\n",
       "      <td>1968</td>\n",
       "      <td>1968</td>\n",
       "      <td>C-F</td>\n",
       "      <td>6-8</td>\n",
       "      <td>205.0</td>\n",
       "      <td>NaN</td>\n",
       "      <td>New Mexico State University</td>\n",
       "    </tr>\n",
       "    <tr>\n",
       "      <td>David Andersen</td>\n",
       "      <td>2010</td>\n",
       "      <td>2011</td>\n",
       "      <td>C</td>\n",
       "      <td>6-11</td>\n",
       "      <td>245.0</td>\n",
       "      <td>June 23, 1980</td>\n",
       "      <td>NaN</td>\n",
       "    </tr>\n",
       "  </tbody>\n",
       "</table>\n",
       "</div>"
      ],
      "text/plain": [
       "                year_start  year_end position height  weight      birth_date  \\\n",
       "name                                                                           \n",
       "Alex Abrines          2017      2018      G-F    6-6   190.0  August 1, 1993   \n",
       "Alexis Ajinca         2009      2017        C    7-2   248.0     May 6, 1988   \n",
       "Furkan Aldemir        2015      2015      F-C   6-10   240.0  August 9, 1991   \n",
       "Bill Allen            1968      1968      C-F    6-8   205.0             NaN   \n",
       "David Andersen        2010      2011        C   6-11   245.0   June 23, 1980   \n",
       "\n",
       "                                    college  \n",
       "name                                         \n",
       "Alex Abrines                            NaN  \n",
       "Alexis Ajinca                           NaN  \n",
       "Furkan Aldemir                          NaN  \n",
       "Bill Allen      New Mexico State University  \n",
       "David Andersen                          NaN  "
      ]
     },
     "execution_count": 54,
     "metadata": {},
     "output_type": "execute_result"
    }
   ],
   "source": [
    "player_data[rows_null_mask].head()"
   ]
  },
  {
   "cell_type": "code",
   "execution_count": 55,
   "metadata": {},
   "outputs": [
    {
     "data": {
      "text/plain": [
       "(337, 7)"
      ]
     },
     "execution_count": 55,
     "metadata": {},
     "output_type": "execute_result"
    }
   ],
   "source": [
    "player_data[rows_null_mask].shape"
   ]
  },
  {
   "cell_type": "markdown",
   "metadata": {},
   "source": [
    "Para determinar aquellos que no tienen valors nulos el prodecimiento es similar."
   ]
  },
  {
   "cell_type": "code",
   "execution_count": 56,
   "metadata": {},
   "outputs": [
    {
     "data": {
      "text/html": [
       "<div>\n",
       "<style scoped>\n",
       "    .dataframe tbody tr th:only-of-type {\n",
       "        vertical-align: middle;\n",
       "    }\n",
       "\n",
       "    .dataframe tbody tr th {\n",
       "        vertical-align: top;\n",
       "    }\n",
       "\n",
       "    .dataframe thead th {\n",
       "        text-align: right;\n",
       "    }\n",
       "</style>\n",
       "<table border=\"1\" class=\"dataframe\">\n",
       "  <thead>\n",
       "    <tr style=\"text-align: right;\">\n",
       "      <th></th>\n",
       "      <th>year_start</th>\n",
       "      <th>year_end</th>\n",
       "      <th>position</th>\n",
       "      <th>height</th>\n",
       "      <th>weight</th>\n",
       "      <th>birth_date</th>\n",
       "      <th>college</th>\n",
       "    </tr>\n",
       "    <tr>\n",
       "      <th>name</th>\n",
       "      <th></th>\n",
       "      <th></th>\n",
       "      <th></th>\n",
       "      <th></th>\n",
       "      <th></th>\n",
       "      <th></th>\n",
       "      <th></th>\n",
       "    </tr>\n",
       "  </thead>\n",
       "  <tbody>\n",
       "    <tr>\n",
       "      <td>Alaa Abdelnaby</td>\n",
       "      <td>1991</td>\n",
       "      <td>1995</td>\n",
       "      <td>F-C</td>\n",
       "      <td>6-10</td>\n",
       "      <td>240.0</td>\n",
       "      <td>June 24, 1968</td>\n",
       "      <td>Duke University</td>\n",
       "    </tr>\n",
       "    <tr>\n",
       "      <td>Zaid Abdul-Aziz</td>\n",
       "      <td>1969</td>\n",
       "      <td>1978</td>\n",
       "      <td>C-F</td>\n",
       "      <td>6-9</td>\n",
       "      <td>235.0</td>\n",
       "      <td>April 7, 1946</td>\n",
       "      <td>Iowa State University</td>\n",
       "    </tr>\n",
       "    <tr>\n",
       "      <td>Kareem Abdul-Jabbar</td>\n",
       "      <td>1970</td>\n",
       "      <td>1989</td>\n",
       "      <td>C</td>\n",
       "      <td>7-2</td>\n",
       "      <td>225.0</td>\n",
       "      <td>April 16, 1947</td>\n",
       "      <td>University of California, Los Angeles</td>\n",
       "    </tr>\n",
       "    <tr>\n",
       "      <td>Mahmoud Abdul-Rauf</td>\n",
       "      <td>1991</td>\n",
       "      <td>2001</td>\n",
       "      <td>G</td>\n",
       "      <td>6-1</td>\n",
       "      <td>162.0</td>\n",
       "      <td>March 9, 1969</td>\n",
       "      <td>Louisiana State University</td>\n",
       "    </tr>\n",
       "    <tr>\n",
       "      <td>Tariq Abdul-Wahad</td>\n",
       "      <td>1998</td>\n",
       "      <td>2003</td>\n",
       "      <td>F</td>\n",
       "      <td>6-6</td>\n",
       "      <td>223.0</td>\n",
       "      <td>November 3, 1974</td>\n",
       "      <td>San Jose State University</td>\n",
       "    </tr>\n",
       "  </tbody>\n",
       "</table>\n",
       "</div>"
      ],
      "text/plain": [
       "                     year_start  year_end position height  weight  \\\n",
       "name                                                                \n",
       "Alaa Abdelnaby             1991      1995      F-C   6-10   240.0   \n",
       "Zaid Abdul-Aziz            1969      1978      C-F    6-9   235.0   \n",
       "Kareem Abdul-Jabbar        1970      1989        C    7-2   225.0   \n",
       "Mahmoud Abdul-Rauf         1991      2001        G    6-1   162.0   \n",
       "Tariq Abdul-Wahad          1998      2003        F    6-6   223.0   \n",
       "\n",
       "                           birth_date                                college  \n",
       "name                                                                          \n",
       "Alaa Abdelnaby          June 24, 1968                        Duke University  \n",
       "Zaid Abdul-Aziz         April 7, 1946                  Iowa State University  \n",
       "Kareem Abdul-Jabbar    April 16, 1947  University of California, Los Angeles  \n",
       "Mahmoud Abdul-Rauf      March 9, 1969             Louisiana State University  \n",
       "Tariq Abdul-Wahad    November 3, 1974              San Jose State University  "
      ]
     },
     "execution_count": 56,
     "metadata": {},
     "output_type": "execute_result"
    }
   ],
   "source": [
    "player_data.loc[lambda x: x.notnull().all(axis=1)].head()"
   ]
  },
  {
   "cell_type": "markdown",
   "metadata": {},
   "source": [
    "Pandas incluso ofrece opciones para eliminar elementos nulos!"
   ]
  },
  {
   "cell_type": "code",
   "execution_count": 54,
   "metadata": {
    "collapsed": true,
    "jupyter": {
     "outputs_hidden": true
    }
   },
   "outputs": [
    {
     "data": {
      "text/plain": [
       "\u001b[0;31mSignature:\u001b[0m\n",
       "\u001b[0mpd\u001b[0m\u001b[0;34m.\u001b[0m\u001b[0mDataFrame\u001b[0m\u001b[0;34m.\u001b[0m\u001b[0mdropna\u001b[0m\u001b[0;34m(\u001b[0m\u001b[0;34m\u001b[0m\n",
       "\u001b[0;34m\u001b[0m    \u001b[0mself\u001b[0m\u001b[0;34m,\u001b[0m\u001b[0;34m\u001b[0m\n",
       "\u001b[0;34m\u001b[0m    \u001b[0maxis\u001b[0m\u001b[0;34m=\u001b[0m\u001b[0;36m0\u001b[0m\u001b[0;34m,\u001b[0m\u001b[0;34m\u001b[0m\n",
       "\u001b[0;34m\u001b[0m    \u001b[0mhow\u001b[0m\u001b[0;34m=\u001b[0m\u001b[0;34m'any'\u001b[0m\u001b[0;34m,\u001b[0m\u001b[0;34m\u001b[0m\n",
       "\u001b[0;34m\u001b[0m    \u001b[0mthresh\u001b[0m\u001b[0;34m=\u001b[0m\u001b[0;32mNone\u001b[0m\u001b[0;34m,\u001b[0m\u001b[0;34m\u001b[0m\n",
       "\u001b[0;34m\u001b[0m    \u001b[0msubset\u001b[0m\u001b[0;34m=\u001b[0m\u001b[0;32mNone\u001b[0m\u001b[0;34m,\u001b[0m\u001b[0;34m\u001b[0m\n",
       "\u001b[0;34m\u001b[0m    \u001b[0minplace\u001b[0m\u001b[0;34m=\u001b[0m\u001b[0;32mFalse\u001b[0m\u001b[0;34m,\u001b[0m\u001b[0;34m\u001b[0m\n",
       "\u001b[0;34m\u001b[0m\u001b[0;34m)\u001b[0m\u001b[0;34m\u001b[0m\u001b[0;34m\u001b[0m\u001b[0m\n",
       "\u001b[0;31mDocstring:\u001b[0m\n",
       "Remove missing values.\n",
       "\n",
       "See the :ref:`User Guide <missing_data>` for more on which values are\n",
       "considered missing, and how to work with missing data.\n",
       "\n",
       "Parameters\n",
       "----------\n",
       "axis : {0 or 'index', 1 or 'columns'}, default 0\n",
       "    Determine if rows or columns which contain missing values are\n",
       "    removed.\n",
       "\n",
       "    * 0, or 'index' : Drop rows which contain missing values.\n",
       "    * 1, or 'columns' : Drop columns which contain missing value.\n",
       "\n",
       "    .. deprecated:: 0.23.0\n",
       "\n",
       "       Pass tuple or list to drop on multiple axes.\n",
       "       Only a single axis is allowed.\n",
       "\n",
       "how : {'any', 'all'}, default 'any'\n",
       "    Determine if row or column is removed from DataFrame, when we have\n",
       "    at least one NA or all NA.\n",
       "\n",
       "    * 'any' : If any NA values are present, drop that row or column.\n",
       "    * 'all' : If all values are NA, drop that row or column.\n",
       "\n",
       "thresh : int, optional\n",
       "    Require that many non-NA values.\n",
       "subset : array-like, optional\n",
       "    Labels along other axis to consider, e.g. if you are dropping rows\n",
       "    these would be a list of columns to include.\n",
       "inplace : bool, default False\n",
       "    If True, do operation inplace and return None.\n",
       "\n",
       "Returns\n",
       "-------\n",
       "DataFrame\n",
       "    DataFrame with NA entries dropped from it.\n",
       "\n",
       "See Also\n",
       "--------\n",
       "DataFrame.isna: Indicate missing values.\n",
       "DataFrame.notna : Indicate existing (non-missing) values.\n",
       "DataFrame.fillna : Replace missing values.\n",
       "Series.dropna : Drop missing values.\n",
       "Index.dropna : Drop missing indices.\n",
       "\n",
       "Examples\n",
       "--------\n",
       ">>> df = pd.DataFrame({\"name\": ['Alfred', 'Batman', 'Catwoman'],\n",
       "...                    \"toy\": [np.nan, 'Batmobile', 'Bullwhip'],\n",
       "...                    \"born\": [pd.NaT, pd.Timestamp(\"1940-04-25\"),\n",
       "...                             pd.NaT]})\n",
       ">>> df\n",
       "       name        toy       born\n",
       "0    Alfred        NaN        NaT\n",
       "1    Batman  Batmobile 1940-04-25\n",
       "2  Catwoman   Bullwhip        NaT\n",
       "\n",
       "Drop the rows where at least one element is missing.\n",
       "\n",
       ">>> df.dropna()\n",
       "     name        toy       born\n",
       "1  Batman  Batmobile 1940-04-25\n",
       "\n",
       "Drop the columns where at least one element is missing.\n",
       "\n",
       ">>> df.dropna(axis='columns')\n",
       "       name\n",
       "0    Alfred\n",
       "1    Batman\n",
       "2  Catwoman\n",
       "\n",
       "Drop the rows where all elements are missing.\n",
       "\n",
       ">>> df.dropna(how='all')\n",
       "       name        toy       born\n",
       "0    Alfred        NaN        NaT\n",
       "1    Batman  Batmobile 1940-04-25\n",
       "2  Catwoman   Bullwhip        NaT\n",
       "\n",
       "Keep only the rows with at least 2 non-NA values.\n",
       "\n",
       ">>> df.dropna(thresh=2)\n",
       "       name        toy       born\n",
       "1    Batman  Batmobile 1940-04-25\n",
       "2  Catwoman   Bullwhip        NaT\n",
       "\n",
       "Define in which columns to look for missing values.\n",
       "\n",
       ">>> df.dropna(subset=['name', 'born'])\n",
       "       name        toy       born\n",
       "1    Batman  Batmobile 1940-04-25\n",
       "\n",
       "Keep the DataFrame with valid entries in the same variable.\n",
       "\n",
       ">>> df.dropna(inplace=True)\n",
       ">>> df\n",
       "     name        toy       born\n",
       "1  Batman  Batmobile 1940-04-25\n",
       "\u001b[0;31mFile:\u001b[0m      ~/miniconda3/envs/mat281_2018S2/lib/python3.6/site-packages/pandas/core/frame.py\n",
       "\u001b[0;31mType:\u001b[0m      function\n"
      ]
     },
     "metadata": {},
     "output_type": "display_data"
    }
   ],
   "source": [
    "pd.DataFrame.dropna?"
   ]
  },
  {
   "cell_type": "code",
   "execution_count": 55,
   "metadata": {},
   "outputs": [
    {
     "name": "stdout",
     "output_type": "stream",
     "text": [
      "(4213, 7)\n",
      "(4213, 7)\n",
      "(4550, 2)\n"
     ]
    }
   ],
   "source": [
    "# Cualquier registro con null\n",
    "print(player_data.dropna().shape)\n",
    "# Filas con elementos nulos\n",
    "print(player_data.dropna(axis=0).shape)\n",
    "# Columnas con elementos nulos\n",
    "print(player_data.dropna(axis=1).shape)"
   ]
  },
  {
   "cell_type": "markdown",
   "metadata": {
    "slideshow": {
     "slide_type": "slide"
    }
   },
   "source": [
    "## Resumen\n",
    "* Pandas posee una infinidad de herramientas para trabajar con datos, incluyendo la carga, manipulación, operaciones y filtrado de datos.\n",
    "* La documentación oficial (y StackOverflow) son tus mejores amigos.\n",
    "* La importancia está en darle sentido a los datos, no solo a coleccionarlos."
   ]
  }
 ],
 "metadata": {
  "celltoolbar": "Slideshow",
  "kernelspec": {
   "display_name": "Python [conda env:ds]",
   "language": "python",
   "name": "conda-env-ds-py"
  },
  "language_info": {
   "codemirror_mode": {
    "name": "ipython",
    "version": 3
   },
   "file_extension": ".py",
   "mimetype": "text/x-python",
   "name": "python",
   "nbconvert_exporter": "python",
   "pygments_lexer": "ipython3",
   "version": "3.7.3"
  }
 },
 "nbformat": 4,
 "nbformat_minor": 4
}
